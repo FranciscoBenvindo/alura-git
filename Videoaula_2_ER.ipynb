{
  "nbformat": 4,
  "nbformat_minor": 0,
  "metadata": {
    "colab": {
      "provenance": [],
      "include_colab_link": true
    },
    "kernelspec": {
      "name": "python3",
      "display_name": "Python 3"
    },
    "language_info": {
      "name": "python"
    }
  },
  "cells": [
    {
      "cell_type": "markdown",
      "metadata": {
        "id": "view-in-github",
        "colab_type": "text"
      },
      "source": [
        "<a href=\"https://colab.research.google.com/github/FranciscoBenvindo/alura-git/blob/main/Videoaula_2_ER.ipynb\" target=\"_parent\"><img src=\"https://colab.research.google.com/assets/colab-badge.svg\" alt=\"Open In Colab\"/></a>"
      ]
    },
    {
      "cell_type": "markdown",
      "source": [
        "# COM550 - Processamento de Linguagem Natural\n",
        "\n",
        "## Semana 1 - Introdução ao Processamento de Linguagem Natural\n",
        "## Videoaula 2 - Expressões Regulares\n"
      ],
      "metadata": {
        "id": "3dBdi75_NlE5"
      }
    },
    {
      "cell_type": "markdown",
      "source": [
        "# Expressão regular - Uso básico\n",
        "\n",
        "Esse código apresenta alguns exemplos de uso de expressão regular para encontrar padrões no texto."
      ],
      "metadata": {
        "id": "rFM_kFTU7x9Z"
      }
    },
    {
      "cell_type": "code",
      "execution_count": 1,
      "metadata": {
        "colab": {
          "base_uri": "https://localhost:8080/"
        },
        "id": "mvxjXmPm6o-9",
        "outputId": "ce7ee42d-4620-42e4-e353-4848b575d9e4"
      },
      "outputs": [
        {
          "output_type": "execute_result",
          "data": {
            "text/plain": [
              "['José', 'José', 'José', 'José', 'José', 'José', 'José', 'José', 'José']"
            ]
          },
          "metadata": {},
          "execution_count": 1
        }
      ],
      "source": [
        "import re\n",
        "\n",
        "poema = \"\"\"E agora, José?\n",
        "A festa acabou,\n",
        "a luz apagou,\n",
        "o povo sumiu,\n",
        "a noite esfriou,\n",
        "e agora, José?\n",
        "e agora, você?\n",
        "você que é sem nome,\n",
        "que zomba dos outros,\n",
        "você que faz versos,\n",
        "que ama, protesta?\n",
        "e agora, José?\n",
        "\n",
        "Está sem mulher,\n",
        "está sem discurso,\n",
        "está sem carinho,\n",
        "já não pode beber,\n",
        "já não pode fumar,\n",
        "cuspir já não pode,\n",
        "a noite esfriou,\n",
        "o dia não veio,\n",
        "o bonde não veio,\n",
        "o riso não veio,\n",
        "não veio a utopia\n",
        "e tudo acabou\n",
        "e tudo fugiu\n",
        "e tudo mofou,\n",
        "e agora, José?\n",
        "\n",
        "E agora, José?\n",
        "Sua doce palavra,\n",
        "seu instante de febre,\n",
        "sua gula e jejum,\n",
        "sua biblioteca,\n",
        "sua lavra de ouro,\n",
        "seu terno de vidro,\n",
        "sua incoerência,\n",
        "seu ódio - e agora?\n",
        "\n",
        "Com a chave na mão\n",
        "quer abrir a porta,\n",
        "não existe porta;\n",
        "quer morrer no mar,\n",
        "mas o mar secou;\n",
        "quer ir para Minas,\n",
        "Minas não há mais.\n",
        "José, e agora?\n",
        "\n",
        "Se você gritasse,\n",
        "se você gemesse,\n",
        "se você tocasse\n",
        "a valsa vienense,\n",
        "se você dormisse,\n",
        "se você cansasse,\n",
        "se você morresse...\n",
        "Mas você não morre,\n",
        "você é duro, José!\n",
        "\n",
        "Sozinho no escuro\n",
        "qual bicho-do-mato,\n",
        "sem teogonia,\n",
        "sem parede nua\n",
        "para se encostar,\n",
        "sem cavalo preto\n",
        "que fuja a galope,\n",
        "você marcha, José!\n",
        "José, para onde?\"\"\"\n",
        "\n",
        "re.findall(r\"José\",poema)"
      ]
    },
    {
      "cell_type": "code",
      "source": [
        "len(re.findall(r\"José\",poema))"
      ],
      "metadata": {
        "colab": {
          "base_uri": "https://localhost:8080/"
        },
        "id": "W2DQpe1w7niE",
        "outputId": "3fd98b43-9fa5-46dc-f12b-de62b44554c3"
      },
      "execution_count": 2,
      "outputs": [
        {
          "output_type": "execute_result",
          "data": {
            "text/plain": [
              "9"
            ]
          },
          "metadata": {},
          "execution_count": 2
        }
      ]
    },
    {
      "cell_type": "markdown",
      "source": [
        "Encontrando ocorrências de \"E agora, José?\" com \"E\" ou \"e\"."
      ],
      "metadata": {
        "id": "xQmTC1NgAdq5"
      }
    },
    {
      "cell_type": "code",
      "source": [
        "re.findall(r\"[Ee] agora, José?\",poema)"
      ],
      "metadata": {
        "colab": {
          "base_uri": "https://localhost:8080/"
        },
        "id": "2yjYe-ND_pE8",
        "outputId": "84fc2784-6601-4f1e-c0af-297d9449f779"
      },
      "execution_count": 3,
      "outputs": [
        {
          "output_type": "execute_result",
          "data": {
            "text/plain": [
              "['E agora, José',\n",
              " 'e agora, José',\n",
              " 'e agora, José',\n",
              " 'e agora, José',\n",
              " 'E agora, José']"
            ]
          },
          "metadata": {},
          "execution_count": 3
        }
      ]
    },
    {
      "cell_type": "markdown",
      "source": [
        "Encontrando ocorrências de palavras terminadas em \"sse\"."
      ],
      "metadata": {
        "id": "-4-SUfnhAXvV"
      }
    },
    {
      "cell_type": "code",
      "source": [
        "re.findall(r\"[a-z]+sse\",poema)"
      ],
      "metadata": {
        "colab": {
          "base_uri": "https://localhost:8080/"
        },
        "id": "o8YtHe7CAGmU",
        "outputId": "ef718f8a-f676-4bcf-a814-1bd663a1a1f4"
      },
      "execution_count": 4,
      "outputs": [
        {
          "output_type": "execute_result",
          "data": {
            "text/plain": [
              "['gritasse', 'gemesse', 'tocasse', 'dormisse', 'cansasse', 'morresse']"
            ]
          },
          "metadata": {},
          "execution_count": 4
        }
      ]
    },
    {
      "cell_type": "markdown",
      "source": [
        "Encontrando o que vem depois do \"sem\"."
      ],
      "metadata": {
        "id": "h9IeIPymA-zS"
      }
    },
    {
      "cell_type": "code",
      "source": [
        "re.findall(r\"sem [a-z]+\",poema)"
      ],
      "metadata": {
        "colab": {
          "base_uri": "https://localhost:8080/"
        },
        "id": "4501K4DqBBn-",
        "outputId": "ec4be22c-2cb9-4871-883e-0d04034fd27a"
      },
      "execution_count": 5,
      "outputs": [
        {
          "output_type": "execute_result",
          "data": {
            "text/plain": [
              "['sem nome',\n",
              " 'sem mulher',\n",
              " 'sem discurso',\n",
              " 'sem carinho',\n",
              " 'sem teogonia',\n",
              " 'sem parede',\n",
              " 'sem cavalo']"
            ]
          },
          "metadata": {},
          "execution_count": 5
        }
      ]
    },
    {
      "cell_type": "markdown",
      "source": [
        "Encontrando as palavras que precedem \"?\" ou \"!\"."
      ],
      "metadata": {
        "id": "4LYL4g4_FfQQ"
      }
    },
    {
      "cell_type": "code",
      "source": [
        "re.findall(r\"\\w+[?|!]\",poema)"
      ],
      "metadata": {
        "colab": {
          "base_uri": "https://localhost:8080/"
        },
        "id": "H3Nmkf-WFj7R",
        "outputId": "2cf5038f-05f9-47ab-e76d-4b5617a86f0f"
      },
      "execution_count": 6,
      "outputs": [
        {
          "output_type": "execute_result",
          "data": {
            "text/plain": [
              "['José?',\n",
              " 'José?',\n",
              " 'você?',\n",
              " 'protesta?',\n",
              " 'José?',\n",
              " 'José?',\n",
              " 'José?',\n",
              " 'agora?',\n",
              " 'agora?',\n",
              " 'José!',\n",
              " 'José!',\n",
              " 'onde?']"
            ]
          },
          "metadata": {},
          "execution_count": 6
        }
      ]
    },
    {
      "cell_type": "markdown",
      "source": [
        "Contando quantas ocorrências de caracteres não alfanuméricos tem no texto."
      ],
      "metadata": {
        "id": "DNiOEmuqHehw"
      }
    },
    {
      "cell_type": "code",
      "source": [
        "len(re.findall(r\"\\W\",poema))"
      ],
      "metadata": {
        "colab": {
          "base_uri": "https://localhost:8080/"
        },
        "id": "Igw_so34Gxjt",
        "outputId": "39a6ce2e-68ab-4a46-8f94-c47e08663c6a"
      },
      "execution_count": 7,
      "outputs": [
        {
          "output_type": "execute_result",
          "data": {
            "text/plain": [
              "283"
            ]
          },
          "metadata": {},
          "execution_count": 7
        }
      ]
    },
    {
      "cell_type": "markdown",
      "source": [
        "Encontrando o que vem depois do \"sem\", mas agora só quando \"sem\" ocorre no início."
      ],
      "metadata": {
        "id": "zVWjARx-ICZ7"
      }
    },
    {
      "cell_type": "code",
      "source": [
        "re.findall(r\"^sem \\w+\",poema,re.MULTILINE)"
      ],
      "metadata": {
        "colab": {
          "base_uri": "https://localhost:8080/"
        },
        "id": "TJZgBwM2ILN6",
        "outputId": "fd0310a3-d150-4f9c-f705-08354db536ed"
      },
      "execution_count": 8,
      "outputs": [
        {
          "output_type": "execute_result",
          "data": {
            "text/plain": [
              "['sem teogonia', 'sem parede', 'sem cavalo']"
            ]
          },
          "metadata": {},
          "execution_count": 8
        }
      ]
    },
    {
      "cell_type": "markdown",
      "source": [
        "Encontrando só as ocorrências de \"José\" no final da linha, possivelmente seguidas apenas de \"?\" ou \"!\"."
      ],
      "metadata": {
        "id": "lL1a__kFLGc1"
      }
    },
    {
      "cell_type": "code",
      "source": [
        "re.findall(r\"José[?|!]?$\",poema,re.MULTILINE)"
      ],
      "metadata": {
        "colab": {
          "base_uri": "https://localhost:8080/"
        },
        "id": "0tgzk43JLMFU",
        "outputId": "f7623566-00ae-4d23-a6c3-ac4ec69d13ce"
      },
      "execution_count": 9,
      "outputs": [
        {
          "output_type": "execute_result",
          "data": {
            "text/plain": [
              "['José?', 'José?', 'José?', 'José?', 'José?', 'José!', 'José!']"
            ]
          },
          "metadata": {},
          "execution_count": 9
        }
      ]
    },
    {
      "cell_type": "markdown",
      "source": [
        "# Expressão regular - Chatbot"
      ],
      "metadata": {
        "id": "WYmMAfFhTQEb"
      }
    },
    {
      "cell_type": "code",
      "source": [
        "texto = \"Eu gostaria de saber qual é o status do meu pedido 345NMU782\"\n",
        "re.findall(r\"\\b[0-9]{3}[A-Z]{3}[0-9]{3}\",texto)"
      ],
      "metadata": {
        "colab": {
          "base_uri": "https://localhost:8080/"
        },
        "id": "LUepCkbkTUwm",
        "outputId": "18a31329-6a10-4b75-a7a1-792273877dbb"
      },
      "execution_count": 10,
      "outputs": [
        {
          "output_type": "execute_result",
          "data": {
            "text/plain": [
              "['345NMU782']"
            ]
          },
          "metadata": {},
          "execution_count": 10
        }
      ]
    },
    {
      "cell_type": "markdown",
      "source": [
        "# Expressão regular - Tokenização"
      ],
      "metadata": {
        "id": "pdZCr8jpYOYT"
      }
    },
    {
      "cell_type": "markdown",
      "source": [
        "Além de encontrar padrões, as expressões regulares podem ser usadas para auxiliar na substituição de padrões. Nesse caso, usamos `re.sub`"
      ],
      "metadata": {
        "id": "7MxJOmfCYWPl"
      }
    },
    {
      "cell_type": "code",
      "source": [
        "print(re.sub(r\"[,;.!?:]\",\"\",poema))"
      ],
      "metadata": {
        "id": "81GP7LpbYRL7",
        "colab": {
          "base_uri": "https://localhost:8080/"
        },
        "outputId": "111795f8-7bb1-4e07-d9ef-78d9af619378"
      },
      "execution_count": 11,
      "outputs": [
        {
          "output_type": "stream",
          "name": "stdout",
          "text": [
            "E agora José\n",
            "A festa acabou\n",
            "a luz apagou\n",
            "o povo sumiu\n",
            "a noite esfriou\n",
            "e agora José\n",
            "e agora você\n",
            "você que é sem nome\n",
            "que zomba dos outros\n",
            "você que faz versos\n",
            "que ama protesta\n",
            "e agora José\n",
            "\n",
            "Está sem mulher\n",
            "está sem discurso\n",
            "está sem carinho\n",
            "já não pode beber\n",
            "já não pode fumar\n",
            "cuspir já não pode\n",
            "a noite esfriou\n",
            "o dia não veio\n",
            "o bonde não veio\n",
            "o riso não veio\n",
            "não veio a utopia\n",
            "e tudo acabou\n",
            "e tudo fugiu\n",
            "e tudo mofou\n",
            "e agora José\n",
            "\n",
            "E agora José\n",
            "Sua doce palavra\n",
            "seu instante de febre\n",
            "sua gula e jejum\n",
            "sua biblioteca\n",
            "sua lavra de ouro\n",
            "seu terno de vidro\n",
            "sua incoerência\n",
            "seu ódio - e agora\n",
            "\n",
            "Com a chave na mão\n",
            "quer abrir a porta\n",
            "não existe porta\n",
            "quer morrer no mar\n",
            "mas o mar secou\n",
            "quer ir para Minas\n",
            "Minas não há mais\n",
            "José e agora\n",
            "\n",
            "Se você gritasse\n",
            "se você gemesse\n",
            "se você tocasse\n",
            "a valsa vienense\n",
            "se você dormisse\n",
            "se você cansasse\n",
            "se você morresse\n",
            "Mas você não morre\n",
            "você é duro José\n",
            "\n",
            "Sozinho no escuro\n",
            "qual bicho-do-mato\n",
            "sem teogonia\n",
            "sem parede nua\n",
            "para se encostar\n",
            "sem cavalo preto\n",
            "que fuja a galope\n",
            "você marcha José\n",
            "José para onde\n"
          ]
        }
      ]
    },
    {
      "cell_type": "markdown",
      "source": [
        "As expressões regulares também têm \"memória\", ou seja, podemos agrupar entre parênteses uma sequência que nos interessa e recuperar isso com a sequência `\\<NUM>` onde `<NUM>` começa em 1 e vai crescendo de acordo com a ordem de aninhamento dos parênteses."
      ],
      "metadata": {
        "id": "r2NoGAkxZFFo"
      }
    },
    {
      "cell_type": "code",
      "source": [
        "tokenizado = re.sub(r\"([,;.!?:])\",r\" \\1\",poema)\n",
        "# Outra opção com resultado similar é:\n",
        "# tokenizado = re.sub(r\"(\\b)\",r\" \\1\",poema)\n",
        "tokenizado"
      ],
      "metadata": {
        "colab": {
          "base_uri": "https://localhost:8080/",
          "height": 140
        },
        "id": "JLUQUmGtZirk",
        "outputId": "54b5f4d1-ab24-422b-ecea-e072b82e00eb"
      },
      "execution_count": 13,
      "outputs": [
        {
          "output_type": "execute_result",
          "data": {
            "text/plain": [
              "'E agora , José ?\\nA festa acabou ,\\na luz apagou ,\\no povo sumiu ,\\na noite esfriou ,\\ne agora , José ?\\ne agora , você ?\\nvocê que é sem nome ,\\nque zomba dos outros ,\\nvocê que faz versos ,\\nque ama , protesta ?\\ne agora , José ?\\n\\nEstá sem mulher ,\\nestá sem discurso ,\\nestá sem carinho ,\\njá não pode beber ,\\njá não pode fumar ,\\ncuspir já não pode ,\\na noite esfriou ,\\no dia não veio ,\\no bonde não veio ,\\no riso não veio ,\\nnão veio a utopia\\ne tudo acabou\\ne tudo fugiu\\ne tudo mofou ,\\ne agora , José ?\\n\\nE agora , José ?\\nSua doce palavra ,\\nseu instante de febre ,\\nsua gula e jejum ,\\nsua biblioteca ,\\nsua lavra de ouro ,\\nseu terno de vidro ,\\nsua incoerência ,\\nseu ódio - e agora ?\\n\\nCom a chave na mão\\nquer abrir a porta ,\\nnão existe porta ;\\nquer morrer no mar ,\\nmas o mar secou ;\\nquer ir para Minas ,\\nMinas não há mais .\\nJosé , e agora ?\\n\\nSe você gritasse ,\\nse você gemesse ,\\nse você tocasse\\na valsa vienense ,\\nse você dormisse ,\\nse você cansasse ,\\nse você morresse . . .\\nMas você não morre ,\\nvocê é duro , José !\\n\\nSozinho no escuro\\nqual bicho-do-mato ,\\nsem teogonia ,\\nsem parede nua\\npara se encostar ,\\nsem cavalo preto\\nque fuja a galope ,\\nvocê marcha , José !\\nJosé , para onde ?'"
            ],
            "application/vnd.google.colaboratory.intrinsic+json": {
              "type": "string"
            }
          },
          "metadata": {},
          "execution_count": 13
        }
      ]
    },
    {
      "cell_type": "markdown",
      "source": [
        "Depois de inserir os espaços nos lugares desejados, há um jeito muito simples de quebrar palavras em tokens usando funções pré-existentes e Python: `split`"
      ],
      "metadata": {
        "id": "4ZXyn_zAjGzl"
      }
    },
    {
      "cell_type": "code",
      "source": [
        "tokenizado.split()"
      ],
      "metadata": {
        "colab": {
          "base_uri": "https://localhost:8080/"
        },
        "id": "RuWwI2hYvFnf",
        "outputId": "f3886c7a-f8bf-4686-817a-49daaafd8644"
      },
      "execution_count": 15,
      "outputs": [
        {
          "output_type": "execute_result",
          "data": {
            "text/plain": [
              "['E',\n",
              " 'agora',\n",
              " ',',\n",
              " 'José',\n",
              " '?',\n",
              " 'A',\n",
              " 'festa',\n",
              " 'acabou',\n",
              " ',',\n",
              " 'a',\n",
              " 'luz',\n",
              " 'apagou',\n",
              " ',',\n",
              " 'o',\n",
              " 'povo',\n",
              " 'sumiu',\n",
              " ',',\n",
              " 'a',\n",
              " 'noite',\n",
              " 'esfriou',\n",
              " ',',\n",
              " 'e',\n",
              " 'agora',\n",
              " ',',\n",
              " 'José',\n",
              " '?',\n",
              " 'e',\n",
              " 'agora',\n",
              " ',',\n",
              " 'você',\n",
              " '?',\n",
              " 'você',\n",
              " 'que',\n",
              " 'é',\n",
              " 'sem',\n",
              " 'nome',\n",
              " ',',\n",
              " 'que',\n",
              " 'zomba',\n",
              " 'dos',\n",
              " 'outros',\n",
              " ',',\n",
              " 'você',\n",
              " 'que',\n",
              " 'faz',\n",
              " 'versos',\n",
              " ',',\n",
              " 'que',\n",
              " 'ama',\n",
              " ',',\n",
              " 'protesta',\n",
              " '?',\n",
              " 'e',\n",
              " 'agora',\n",
              " ',',\n",
              " 'José',\n",
              " '?',\n",
              " 'Está',\n",
              " 'sem',\n",
              " 'mulher',\n",
              " ',',\n",
              " 'está',\n",
              " 'sem',\n",
              " 'discurso',\n",
              " ',',\n",
              " 'está',\n",
              " 'sem',\n",
              " 'carinho',\n",
              " ',',\n",
              " 'já',\n",
              " 'não',\n",
              " 'pode',\n",
              " 'beber',\n",
              " ',',\n",
              " 'já',\n",
              " 'não',\n",
              " 'pode',\n",
              " 'fumar',\n",
              " ',',\n",
              " 'cuspir',\n",
              " 'já',\n",
              " 'não',\n",
              " 'pode',\n",
              " ',',\n",
              " 'a',\n",
              " 'noite',\n",
              " 'esfriou',\n",
              " ',',\n",
              " 'o',\n",
              " 'dia',\n",
              " 'não',\n",
              " 'veio',\n",
              " ',',\n",
              " 'o',\n",
              " 'bonde',\n",
              " 'não',\n",
              " 'veio',\n",
              " ',',\n",
              " 'o',\n",
              " 'riso',\n",
              " 'não',\n",
              " 'veio',\n",
              " ',',\n",
              " 'não',\n",
              " 'veio',\n",
              " 'a',\n",
              " 'utopia',\n",
              " 'e',\n",
              " 'tudo',\n",
              " 'acabou',\n",
              " 'e',\n",
              " 'tudo',\n",
              " 'fugiu',\n",
              " 'e',\n",
              " 'tudo',\n",
              " 'mofou',\n",
              " ',',\n",
              " 'e',\n",
              " 'agora',\n",
              " ',',\n",
              " 'José',\n",
              " '?',\n",
              " 'E',\n",
              " 'agora',\n",
              " ',',\n",
              " 'José',\n",
              " '?',\n",
              " 'Sua',\n",
              " 'doce',\n",
              " 'palavra',\n",
              " ',',\n",
              " 'seu',\n",
              " 'instante',\n",
              " 'de',\n",
              " 'febre',\n",
              " ',',\n",
              " 'sua',\n",
              " 'gula',\n",
              " 'e',\n",
              " 'jejum',\n",
              " ',',\n",
              " 'sua',\n",
              " 'biblioteca',\n",
              " ',',\n",
              " 'sua',\n",
              " 'lavra',\n",
              " 'de',\n",
              " 'ouro',\n",
              " ',',\n",
              " 'seu',\n",
              " 'terno',\n",
              " 'de',\n",
              " 'vidro',\n",
              " ',',\n",
              " 'sua',\n",
              " 'incoerência',\n",
              " ',',\n",
              " 'seu',\n",
              " 'ódio',\n",
              " '-',\n",
              " 'e',\n",
              " 'agora',\n",
              " '?',\n",
              " 'Com',\n",
              " 'a',\n",
              " 'chave',\n",
              " 'na',\n",
              " 'mão',\n",
              " 'quer',\n",
              " 'abrir',\n",
              " 'a',\n",
              " 'porta',\n",
              " ',',\n",
              " 'não',\n",
              " 'existe',\n",
              " 'porta',\n",
              " ';',\n",
              " 'quer',\n",
              " 'morrer',\n",
              " 'no',\n",
              " 'mar',\n",
              " ',',\n",
              " 'mas',\n",
              " 'o',\n",
              " 'mar',\n",
              " 'secou',\n",
              " ';',\n",
              " 'quer',\n",
              " 'ir',\n",
              " 'para',\n",
              " 'Minas',\n",
              " ',',\n",
              " 'Minas',\n",
              " 'não',\n",
              " 'há',\n",
              " 'mais',\n",
              " '.',\n",
              " 'José',\n",
              " ',',\n",
              " 'e',\n",
              " 'agora',\n",
              " '?',\n",
              " 'Se',\n",
              " 'você',\n",
              " 'gritasse',\n",
              " ',',\n",
              " 'se',\n",
              " 'você',\n",
              " 'gemesse',\n",
              " ',',\n",
              " 'se',\n",
              " 'você',\n",
              " 'tocasse',\n",
              " 'a',\n",
              " 'valsa',\n",
              " 'vienense',\n",
              " ',',\n",
              " 'se',\n",
              " 'você',\n",
              " 'dormisse',\n",
              " ',',\n",
              " 'se',\n",
              " 'você',\n",
              " 'cansasse',\n",
              " ',',\n",
              " 'se',\n",
              " 'você',\n",
              " 'morresse',\n",
              " '.',\n",
              " '.',\n",
              " '.',\n",
              " 'Mas',\n",
              " 'você',\n",
              " 'não',\n",
              " 'morre',\n",
              " ',',\n",
              " 'você',\n",
              " 'é',\n",
              " 'duro',\n",
              " ',',\n",
              " 'José',\n",
              " '!',\n",
              " 'Sozinho',\n",
              " 'no',\n",
              " 'escuro',\n",
              " 'qual',\n",
              " 'bicho-do-mato',\n",
              " ',',\n",
              " 'sem',\n",
              " 'teogonia',\n",
              " ',',\n",
              " 'sem',\n",
              " 'parede',\n",
              " 'nua',\n",
              " 'para',\n",
              " 'se',\n",
              " 'encostar',\n",
              " ',',\n",
              " 'sem',\n",
              " 'cavalo',\n",
              " 'preto',\n",
              " 'que',\n",
              " 'fuja',\n",
              " 'a',\n",
              " 'galope',\n",
              " ',',\n",
              " 'você',\n",
              " 'marcha',\n",
              " ',',\n",
              " 'José',\n",
              " '!',\n",
              " 'José',\n",
              " ',',\n",
              " 'para',\n",
              " 'onde',\n",
              " '?']"
            ]
          },
          "metadata": {},
          "execution_count": 15
        }
      ]
    },
    {
      "cell_type": "code",
      "source": [
        "len(tokenizado.split())"
      ],
      "metadata": {
        "colab": {
          "base_uri": "https://localhost:8080/"
        },
        "id": "GytVn2eijOVw",
        "outputId": "e7b54ebd-6c69-46b3-e342-b4bc6f52a4f9"
      },
      "execution_count": 14,
      "outputs": [
        {
          "output_type": "execute_result",
          "data": {
            "text/plain": [
              "276"
            ]
          },
          "metadata": {},
          "execution_count": 14
        }
      ]
    },
    {
      "cell_type": "markdown",
      "source": [
        "# Expressão regular - Normalização"
      ],
      "metadata": {
        "id": "i7sCL56bNH01"
      }
    },
    {
      "cell_type": "markdown",
      "source": [
        "Essa parte do código traz exemplos de como expressões regulares podem ser usadas para a tarefa de Normalização de texto.\n",
        "\n",
        "Para isso, vamos usar um csv de um desafio do Kaggle para análise de sentimentos, em português:\n",
        "\n",
        "* https://www.kaggle.com/augustop/portuguese-tweets-for-sentiment-analysis"
      ],
      "metadata": {
        "id": "Sjs0icJnOJ-D"
      }
    },
    {
      "cell_type": "code",
      "source": [
        "import zipfile\n",
        "!wget https://www.dropbox.com/s/bdr4tmkxcvk9pqc/NoThemeTweets.csv.zip?dl=1 -O NoThemeTweets.zip\n",
        "\n",
        "local_zip = 'NoThemeTweets.zip'\n",
        "zip_ref = zipfile.ZipFile(local_zip, 'r')\n",
        "zip_ref.extractall('tmp/')\n",
        "zip_ref.close()"
      ],
      "metadata": {
        "colab": {
          "base_uri": "https://localhost:8080/"
        },
        "id": "wyL9GRG0OTHY",
        "outputId": "c4b805ec-ab85-4aff-9960-6bf8d215cd76"
      },
      "execution_count": 16,
      "outputs": [
        {
          "output_type": "stream",
          "name": "stdout",
          "text": [
            "--2023-09-12 00:14:20--  https://www.dropbox.com/s/bdr4tmkxcvk9pqc/NoThemeTweets.csv.zip?dl=1\n",
            "Resolving www.dropbox.com (www.dropbox.com)... 162.125.3.18, 2620:100:6018:18::a27d:312\n",
            "Connecting to www.dropbox.com (www.dropbox.com)|162.125.3.18|:443... connected.\n",
            "HTTP request sent, awaiting response... 302 Found\n",
            "Location: /s/dl/bdr4tmkxcvk9pqc/NoThemeTweets.csv.zip [following]\n",
            "--2023-09-12 00:14:20--  https://www.dropbox.com/s/dl/bdr4tmkxcvk9pqc/NoThemeTweets.csv.zip\n",
            "Reusing existing connection to www.dropbox.com:443.\n",
            "HTTP request sent, awaiting response... 302 Found\n",
            "Location: https://uc9c2b54d44fc9f9a102857aa82b.dl.dropboxusercontent.com/cd/0/get/CDjgbf66A1n3EYzhIOq1Er0jXCkfANsvr8h-aV1jWArV7ObcUdVe2p28AtE8oiETGvEIBUSSOEIgDL6DwAEawlumVOIWo9HbqTzhWW9QA-NhT00mXN0DV3VyhYa_aIWCcXatQmZsVvoToOrefZ3ISscd/file?dl=1# [following]\n",
            "--2023-09-12 00:14:21--  https://uc9c2b54d44fc9f9a102857aa82b.dl.dropboxusercontent.com/cd/0/get/CDjgbf66A1n3EYzhIOq1Er0jXCkfANsvr8h-aV1jWArV7ObcUdVe2p28AtE8oiETGvEIBUSSOEIgDL6DwAEawlumVOIWo9HbqTzhWW9QA-NhT00mXN0DV3VyhYa_aIWCcXatQmZsVvoToOrefZ3ISscd/file?dl=1\n",
            "Resolving uc9c2b54d44fc9f9a102857aa82b.dl.dropboxusercontent.com (uc9c2b54d44fc9f9a102857aa82b.dl.dropboxusercontent.com)... 162.125.4.15, 2620:100:6018:15::a27d:30f\n",
            "Connecting to uc9c2b54d44fc9f9a102857aa82b.dl.dropboxusercontent.com (uc9c2b54d44fc9f9a102857aa82b.dl.dropboxusercontent.com)|162.125.4.15|:443... connected.\n",
            "HTTP request sent, awaiting response... 200 OK\n",
            "Length: 41288886 (39M) [application/binary]\n",
            "Saving to: ‘NoThemeTweets.zip’\n",
            "\n",
            "NoThemeTweets.zip   100%[===================>]  39.38M  47.1MB/s    in 0.8s    \n",
            "\n",
            "2023-09-12 00:14:22 (47.1 MB/s) - ‘NoThemeTweets.zip’ saved [41288886/41288886]\n",
            "\n"
          ]
        }
      ]
    },
    {
      "cell_type": "markdown",
      "source": [
        "Carregando o pandas para dar uma olhada no corpus."
      ],
      "metadata": {
        "id": "NzGVcLQJQnwi"
      }
    },
    {
      "cell_type": "code",
      "source": [
        "import pandas as pd\n",
        "corpus = pd.read_csv('tmp/NoThemeTweets.csv', sep=',')\n",
        "corpus.head(10)"
      ],
      "metadata": {
        "colab": {
          "base_uri": "https://localhost:8080/",
          "height": 363
        },
        "id": "5bn-ANUQO5nh",
        "outputId": "fd6f3bb7-86aa-428b-eb4b-0caf76004d8c"
      },
      "execution_count": 17,
      "outputs": [
        {
          "output_type": "execute_result",
          "data": {
            "text/plain": [
              "                    id                                         tweet_text  \\\n",
              "0  1031761728445530112                          @Tixaa23 14 para eu ir :)   \n",
              "1  1031761040462278656      @drexalvarez O meu like eu já dei na época :)   \n",
              "2  1031760962372689920  Eu só queria conseguir comer alguma coisa pra ...   \n",
              "3  1031760948250456066                                 :D que lindo dia !   \n",
              "4  1031760895985246208  @Primo_Resmungao Pq da pr jeito!!é uma \"oferta...   \n",
              "5  1031760822543020032  @BadWolf_Wagner @DanieVedo Eu entendi, mas iss...   \n",
              "6  1031760780641718272  @Chyko661 @g1 [+] Carcinoma Hepatico (Cancer d...   \n",
              "7  1031760749813805058  Aquela mina da limpeza, que tinha um marido co...   \n",
              "8  1031760690778976262  @narryfools aqui, espero que você melhore logo...   \n",
              "9  1031760658600284160  @fefocaires se és feliz trabalhando nisso entã...   \n",
              "\n",
              "                       tweet_date sentiment query_used  \n",
              "0  Tue Aug 21 04:35:39 +0000 2018  Positivo         :)  \n",
              "1  Tue Aug 21 04:32:55 +0000 2018  Positivo         :)  \n",
              "2  Tue Aug 21 04:32:37 +0000 2018  Positivo         :)  \n",
              "3  Tue Aug 21 04:32:33 +0000 2018  Positivo         :)  \n",
              "4  Tue Aug 21 04:32:21 +0000 2018  Positivo         :)  \n",
              "5  Tue Aug 21 04:32:03 +0000 2018  Positivo         :)  \n",
              "6  Tue Aug 21 04:31:53 +0000 2018  Positivo         :)  \n",
              "7  Tue Aug 21 04:31:46 +0000 2018  Positivo         :)  \n",
              "8  Tue Aug 21 04:31:32 +0000 2018  Positivo         :)  \n",
              "9  Tue Aug 21 04:31:24 +0000 2018  Positivo         :)  "
            ],
            "text/html": [
              "\n",
              "  <div id=\"df-72728fad-5df5-432d-baa9-fd482a5adfd0\" class=\"colab-df-container\">\n",
              "    <div>\n",
              "<style scoped>\n",
              "    .dataframe tbody tr th:only-of-type {\n",
              "        vertical-align: middle;\n",
              "    }\n",
              "\n",
              "    .dataframe tbody tr th {\n",
              "        vertical-align: top;\n",
              "    }\n",
              "\n",
              "    .dataframe thead th {\n",
              "        text-align: right;\n",
              "    }\n",
              "</style>\n",
              "<table border=\"1\" class=\"dataframe\">\n",
              "  <thead>\n",
              "    <tr style=\"text-align: right;\">\n",
              "      <th></th>\n",
              "      <th>id</th>\n",
              "      <th>tweet_text</th>\n",
              "      <th>tweet_date</th>\n",
              "      <th>sentiment</th>\n",
              "      <th>query_used</th>\n",
              "    </tr>\n",
              "  </thead>\n",
              "  <tbody>\n",
              "    <tr>\n",
              "      <th>0</th>\n",
              "      <td>1031761728445530112</td>\n",
              "      <td>@Tixaa23 14 para eu ir :)</td>\n",
              "      <td>Tue Aug 21 04:35:39 +0000 2018</td>\n",
              "      <td>Positivo</td>\n",
              "      <td>:)</td>\n",
              "    </tr>\n",
              "    <tr>\n",
              "      <th>1</th>\n",
              "      <td>1031761040462278656</td>\n",
              "      <td>@drexalvarez O meu like eu já dei na época :)</td>\n",
              "      <td>Tue Aug 21 04:32:55 +0000 2018</td>\n",
              "      <td>Positivo</td>\n",
              "      <td>:)</td>\n",
              "    </tr>\n",
              "    <tr>\n",
              "      <th>2</th>\n",
              "      <td>1031760962372689920</td>\n",
              "      <td>Eu só queria conseguir comer alguma coisa pra ...</td>\n",
              "      <td>Tue Aug 21 04:32:37 +0000 2018</td>\n",
              "      <td>Positivo</td>\n",
              "      <td>:)</td>\n",
              "    </tr>\n",
              "    <tr>\n",
              "      <th>3</th>\n",
              "      <td>1031760948250456066</td>\n",
              "      <td>:D que lindo dia !</td>\n",
              "      <td>Tue Aug 21 04:32:33 +0000 2018</td>\n",
              "      <td>Positivo</td>\n",
              "      <td>:)</td>\n",
              "    </tr>\n",
              "    <tr>\n",
              "      <th>4</th>\n",
              "      <td>1031760895985246208</td>\n",
              "      <td>@Primo_Resmungao Pq da pr jeito!!é uma \"oferta...</td>\n",
              "      <td>Tue Aug 21 04:32:21 +0000 2018</td>\n",
              "      <td>Positivo</td>\n",
              "      <td>:)</td>\n",
              "    </tr>\n",
              "    <tr>\n",
              "      <th>5</th>\n",
              "      <td>1031760822543020032</td>\n",
              "      <td>@BadWolf_Wagner @DanieVedo Eu entendi, mas iss...</td>\n",
              "      <td>Tue Aug 21 04:32:03 +0000 2018</td>\n",
              "      <td>Positivo</td>\n",
              "      <td>:)</td>\n",
              "    </tr>\n",
              "    <tr>\n",
              "      <th>6</th>\n",
              "      <td>1031760780641718272</td>\n",
              "      <td>@Chyko661 @g1 [+] Carcinoma Hepatico (Cancer d...</td>\n",
              "      <td>Tue Aug 21 04:31:53 +0000 2018</td>\n",
              "      <td>Positivo</td>\n",
              "      <td>:)</td>\n",
              "    </tr>\n",
              "    <tr>\n",
              "      <th>7</th>\n",
              "      <td>1031760749813805058</td>\n",
              "      <td>Aquela mina da limpeza, que tinha um marido co...</td>\n",
              "      <td>Tue Aug 21 04:31:46 +0000 2018</td>\n",
              "      <td>Positivo</td>\n",
              "      <td>:)</td>\n",
              "    </tr>\n",
              "    <tr>\n",
              "      <th>8</th>\n",
              "      <td>1031760690778976262</td>\n",
              "      <td>@narryfools aqui, espero que você melhore logo...</td>\n",
              "      <td>Tue Aug 21 04:31:32 +0000 2018</td>\n",
              "      <td>Positivo</td>\n",
              "      <td>:)</td>\n",
              "    </tr>\n",
              "    <tr>\n",
              "      <th>9</th>\n",
              "      <td>1031760658600284160</td>\n",
              "      <td>@fefocaires se és feliz trabalhando nisso entã...</td>\n",
              "      <td>Tue Aug 21 04:31:24 +0000 2018</td>\n",
              "      <td>Positivo</td>\n",
              "      <td>:)</td>\n",
              "    </tr>\n",
              "  </tbody>\n",
              "</table>\n",
              "</div>\n",
              "    <div class=\"colab-df-buttons\">\n",
              "\n",
              "  <div class=\"colab-df-container\">\n",
              "    <button class=\"colab-df-convert\" onclick=\"convertToInteractive('df-72728fad-5df5-432d-baa9-fd482a5adfd0')\"\n",
              "            title=\"Convert this dataframe to an interactive table.\"\n",
              "            style=\"display:none;\">\n",
              "\n",
              "  <svg xmlns=\"http://www.w3.org/2000/svg\" height=\"24px\" viewBox=\"0 -960 960 960\">\n",
              "    <path d=\"M120-120v-720h720v720H120Zm60-500h600v-160H180v160Zm220 220h160v-160H400v160Zm0 220h160v-160H400v160ZM180-400h160v-160H180v160Zm440 0h160v-160H620v160ZM180-180h160v-160H180v160Zm440 0h160v-160H620v160Z\"/>\n",
              "  </svg>\n",
              "    </button>\n",
              "\n",
              "  <style>\n",
              "    .colab-df-container {\n",
              "      display:flex;\n",
              "      gap: 12px;\n",
              "    }\n",
              "\n",
              "    .colab-df-convert {\n",
              "      background-color: #E8F0FE;\n",
              "      border: none;\n",
              "      border-radius: 50%;\n",
              "      cursor: pointer;\n",
              "      display: none;\n",
              "      fill: #1967D2;\n",
              "      height: 32px;\n",
              "      padding: 0 0 0 0;\n",
              "      width: 32px;\n",
              "    }\n",
              "\n",
              "    .colab-df-convert:hover {\n",
              "      background-color: #E2EBFA;\n",
              "      box-shadow: 0px 1px 2px rgba(60, 64, 67, 0.3), 0px 1px 3px 1px rgba(60, 64, 67, 0.15);\n",
              "      fill: #174EA6;\n",
              "    }\n",
              "\n",
              "    .colab-df-buttons div {\n",
              "      margin-bottom: 4px;\n",
              "    }\n",
              "\n",
              "    [theme=dark] .colab-df-convert {\n",
              "      background-color: #3B4455;\n",
              "      fill: #D2E3FC;\n",
              "    }\n",
              "\n",
              "    [theme=dark] .colab-df-convert:hover {\n",
              "      background-color: #434B5C;\n",
              "      box-shadow: 0px 1px 3px 1px rgba(0, 0, 0, 0.15);\n",
              "      filter: drop-shadow(0px 1px 2px rgba(0, 0, 0, 0.3));\n",
              "      fill: #FFFFFF;\n",
              "    }\n",
              "  </style>\n",
              "\n",
              "    <script>\n",
              "      const buttonEl =\n",
              "        document.querySelector('#df-72728fad-5df5-432d-baa9-fd482a5adfd0 button.colab-df-convert');\n",
              "      buttonEl.style.display =\n",
              "        google.colab.kernel.accessAllowed ? 'block' : 'none';\n",
              "\n",
              "      async function convertToInteractive(key) {\n",
              "        const element = document.querySelector('#df-72728fad-5df5-432d-baa9-fd482a5adfd0');\n",
              "        const dataTable =\n",
              "          await google.colab.kernel.invokeFunction('convertToInteractive',\n",
              "                                                    [key], {});\n",
              "        if (!dataTable) return;\n",
              "\n",
              "        const docLinkHtml = 'Like what you see? Visit the ' +\n",
              "          '<a target=\"_blank\" href=https://colab.research.google.com/notebooks/data_table.ipynb>data table notebook</a>'\n",
              "          + ' to learn more about interactive tables.';\n",
              "        element.innerHTML = '';\n",
              "        dataTable['output_type'] = 'display_data';\n",
              "        await google.colab.output.renderOutput(dataTable, element);\n",
              "        const docLink = document.createElement('div');\n",
              "        docLink.innerHTML = docLinkHtml;\n",
              "        element.appendChild(docLink);\n",
              "      }\n",
              "    </script>\n",
              "  </div>\n",
              "\n",
              "\n",
              "<div id=\"df-b32c9595-0f50-4a20-82d1-902ed16b06d8\">\n",
              "  <button class=\"colab-df-quickchart\" onclick=\"quickchart('df-b32c9595-0f50-4a20-82d1-902ed16b06d8')\"\n",
              "            title=\"Suggest charts.\"\n",
              "            style=\"display:none;\">\n",
              "\n",
              "<svg xmlns=\"http://www.w3.org/2000/svg\" height=\"24px\"viewBox=\"0 0 24 24\"\n",
              "     width=\"24px\">\n",
              "    <g>\n",
              "        <path d=\"M19 3H5c-1.1 0-2 .9-2 2v14c0 1.1.9 2 2 2h14c1.1 0 2-.9 2-2V5c0-1.1-.9-2-2-2zM9 17H7v-7h2v7zm4 0h-2V7h2v10zm4 0h-2v-4h2v4z\"/>\n",
              "    </g>\n",
              "</svg>\n",
              "  </button>\n",
              "\n",
              "<style>\n",
              "  .colab-df-quickchart {\n",
              "      --bg-color: #E8F0FE;\n",
              "      --fill-color: #1967D2;\n",
              "      --hover-bg-color: #E2EBFA;\n",
              "      --hover-fill-color: #174EA6;\n",
              "      --disabled-fill-color: #AAA;\n",
              "      --disabled-bg-color: #DDD;\n",
              "  }\n",
              "\n",
              "  [theme=dark] .colab-df-quickchart {\n",
              "      --bg-color: #3B4455;\n",
              "      --fill-color: #D2E3FC;\n",
              "      --hover-bg-color: #434B5C;\n",
              "      --hover-fill-color: #FFFFFF;\n",
              "      --disabled-bg-color: #3B4455;\n",
              "      --disabled-fill-color: #666;\n",
              "  }\n",
              "\n",
              "  .colab-df-quickchart {\n",
              "    background-color: var(--bg-color);\n",
              "    border: none;\n",
              "    border-radius: 50%;\n",
              "    cursor: pointer;\n",
              "    display: none;\n",
              "    fill: var(--fill-color);\n",
              "    height: 32px;\n",
              "    padding: 0;\n",
              "    width: 32px;\n",
              "  }\n",
              "\n",
              "  .colab-df-quickchart:hover {\n",
              "    background-color: var(--hover-bg-color);\n",
              "    box-shadow: 0 1px 2px rgba(60, 64, 67, 0.3), 0 1px 3px 1px rgba(60, 64, 67, 0.15);\n",
              "    fill: var(--button-hover-fill-color);\n",
              "  }\n",
              "\n",
              "  .colab-df-quickchart-complete:disabled,\n",
              "  .colab-df-quickchart-complete:disabled:hover {\n",
              "    background-color: var(--disabled-bg-color);\n",
              "    fill: var(--disabled-fill-color);\n",
              "    box-shadow: none;\n",
              "  }\n",
              "\n",
              "  .colab-df-spinner {\n",
              "    border: 2px solid var(--fill-color);\n",
              "    border-color: transparent;\n",
              "    border-bottom-color: var(--fill-color);\n",
              "    animation:\n",
              "      spin 1s steps(1) infinite;\n",
              "  }\n",
              "\n",
              "  @keyframes spin {\n",
              "    0% {\n",
              "      border-color: transparent;\n",
              "      border-bottom-color: var(--fill-color);\n",
              "      border-left-color: var(--fill-color);\n",
              "    }\n",
              "    20% {\n",
              "      border-color: transparent;\n",
              "      border-left-color: var(--fill-color);\n",
              "      border-top-color: var(--fill-color);\n",
              "    }\n",
              "    30% {\n",
              "      border-color: transparent;\n",
              "      border-left-color: var(--fill-color);\n",
              "      border-top-color: var(--fill-color);\n",
              "      border-right-color: var(--fill-color);\n",
              "    }\n",
              "    40% {\n",
              "      border-color: transparent;\n",
              "      border-right-color: var(--fill-color);\n",
              "      border-top-color: var(--fill-color);\n",
              "    }\n",
              "    60% {\n",
              "      border-color: transparent;\n",
              "      border-right-color: var(--fill-color);\n",
              "    }\n",
              "    80% {\n",
              "      border-color: transparent;\n",
              "      border-right-color: var(--fill-color);\n",
              "      border-bottom-color: var(--fill-color);\n",
              "    }\n",
              "    90% {\n",
              "      border-color: transparent;\n",
              "      border-bottom-color: var(--fill-color);\n",
              "    }\n",
              "  }\n",
              "</style>\n",
              "\n",
              "  <script>\n",
              "    async function quickchart(key) {\n",
              "      const quickchartButtonEl =\n",
              "        document.querySelector('#' + key + ' button');\n",
              "      quickchartButtonEl.disabled = true;  // To prevent multiple clicks.\n",
              "      quickchartButtonEl.classList.add('colab-df-spinner');\n",
              "      try {\n",
              "        const charts = await google.colab.kernel.invokeFunction(\n",
              "            'suggestCharts', [key], {});\n",
              "      } catch (error) {\n",
              "        console.error('Error during call to suggestCharts:', error);\n",
              "      }\n",
              "      quickchartButtonEl.classList.remove('colab-df-spinner');\n",
              "      quickchartButtonEl.classList.add('colab-df-quickchart-complete');\n",
              "    }\n",
              "    (() => {\n",
              "      let quickchartButtonEl =\n",
              "        document.querySelector('#df-b32c9595-0f50-4a20-82d1-902ed16b06d8 button');\n",
              "      quickchartButtonEl.style.display =\n",
              "        google.colab.kernel.accessAllowed ? 'block' : 'none';\n",
              "    })();\n",
              "  </script>\n",
              "</div>\n",
              "    </div>\n",
              "  </div>\n"
            ]
          },
          "metadata": {},
          "execution_count": 17
        }
      ]
    },
    {
      "cell_type": "markdown",
      "source": [
        "Olhando mais de perto no campo textual do tweet, pois é o que nos interessa neste curso."
      ],
      "metadata": {
        "id": "J_d7SFdnQsNL"
      }
    },
    {
      "cell_type": "code",
      "source": [
        "tweets = corpus[\"tweet_text\"].values\n",
        "tweets[11]"
      ],
      "metadata": {
        "colab": {
          "base_uri": "https://localhost:8080/",
          "height": 35
        },
        "id": "4GYvKWM8QrxD",
        "outputId": "4dea49c8-8918-4ab3-ae91-22c0a32c1a12"
      },
      "execution_count": 18,
      "outputs": [
        {
          "output_type": "execute_result",
          "data": {
            "text/plain": [
              "'@youngsnowblood @thegr8angelica a para vc q é ♥️♥️ mt obg, eu me sinto até melhor agr :)'"
            ],
            "application/vnd.google.colaboratory.intrinsic+json": {
              "type": "string"
            }
          },
          "metadata": {},
          "execution_count": 18
        }
      ]
    },
    {
      "cell_type": "markdown",
      "source": [
        "Removendo ocorrências de ids de usuários iniciados com @ usando expressões regulares."
      ],
      "metadata": {
        "id": "4_1TidI8U3g0"
      }
    },
    {
      "cell_type": "code",
      "source": [
        "limpo = re.sub(r\"@\\w+\",\"\",tweets[11])\n",
        "limpo"
      ],
      "metadata": {
        "colab": {
          "base_uri": "https://localhost:8080/",
          "height": 35
        },
        "id": "cgCgD0EnUOeW",
        "outputId": "59653106-f392-476c-a322-024bfc491bf6"
      },
      "execution_count": 19,
      "outputs": [
        {
          "output_type": "execute_result",
          "data": {
            "text/plain": [
              "'  a para vc q é ♥️♥️ mt obg, eu me sinto até melhor agr :)'"
            ],
            "application/vnd.google.colaboratory.intrinsic+json": {
              "type": "string"
            }
          },
          "metadata": {},
          "execution_count": 19
        }
      ]
    },
    {
      "cell_type": "markdown",
      "source": [
        "Investigando ocorrências de emojis, ou seja, caracteres não alfanuméricos."
      ],
      "metadata": {
        "id": "mE6553NJR9Yv"
      }
    },
    {
      "cell_type": "code",
      "source": [
        "re.findall(r\"[^\\w ]\",tweets[11])"
      ],
      "metadata": {
        "colab": {
          "base_uri": "https://localhost:8080/"
        },
        "id": "frp3Kck5SFPb",
        "outputId": "81360fdd-6c11-4eb1-880f-a116096684df"
      },
      "execution_count": 20,
      "outputs": [
        {
          "output_type": "execute_result",
          "data": {
            "text/plain": [
              "['@', '@', '♥', '️', '♥', '️', ',', ':', ')']"
            ]
          },
          "metadata": {},
          "execution_count": 20
        }
      ]
    },
    {
      "cell_type": "markdown",
      "source": [
        "Normalizando abreviação da palavra \"agora\"."
      ],
      "metadata": {
        "id": "YjmiQ_6_VxIT"
      }
    },
    {
      "cell_type": "code",
      "source": [
        "normalizado = re.sub(r\"agr\",\"agora\",limpo)\n",
        "normalizado"
      ],
      "metadata": {
        "colab": {
          "base_uri": "https://localhost:8080/",
          "height": 35
        },
        "id": "u7g0B-nIVGsc",
        "outputId": "28af8d4c-1f8b-4ac7-d713-bdcca5ab13fd"
      },
      "execution_count": 21,
      "outputs": [
        {
          "output_type": "execute_result",
          "data": {
            "text/plain": [
              "'  a para vc q é ♥️♥️ mt obg, eu me sinto até melhor agora :)'"
            ],
            "application/vnd.google.colaboratory.intrinsic+json": {
              "type": "string"
            }
          },
          "metadata": {},
          "execution_count": 21
        }
      ]
    },
    {
      "cell_type": "code",
      "source": [],
      "metadata": {
        "id": "Yl6FWSwTv8n-"
      },
      "execution_count": null,
      "outputs": []
    },
    {
      "cell_type": "markdown",
      "source": [
        "#Agradecimento:\n",
        "\n",
        "Aula prática baseada no material disponibilizado pela Profa. Dra. Helena Caseli (UFSCar)"
      ],
      "metadata": {
        "id": "lbdAgG_PptCs"
      }
    }
  ]
}