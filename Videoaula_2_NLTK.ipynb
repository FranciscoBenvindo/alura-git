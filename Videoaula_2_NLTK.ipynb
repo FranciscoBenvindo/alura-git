{
  "nbformat": 4,
  "nbformat_minor": 0,
  "metadata": {
    "colab": {
      "provenance": [],
      "include_colab_link": true
    },
    "kernelspec": {
      "name": "python3",
      "display_name": "Python 3"
    },
    "language_info": {
      "name": "python"
    }
  },
  "cells": [
    {
      "cell_type": "markdown",
      "metadata": {
        "id": "view-in-github",
        "colab_type": "text"
      },
      "source": [
        "<a href=\"https://colab.research.google.com/github/FranciscoBenvindo/alura-git/blob/main/Videoaula_2_NLTK.ipynb\" target=\"_parent\"><img src=\"https://colab.research.google.com/assets/colab-badge.svg\" alt=\"Open In Colab\"/></a>"
      ]
    },
    {
      "cell_type": "markdown",
      "source": [
        "# COM550 - Processamento de Linguagem Natural\n",
        "\n",
        "## Semana 1 - Introdução ao Processamento de Linguagem Natural\n",
        "## Videoaula 2 - NLTK\n"
      ],
      "metadata": {
        "id": "3dBdi75_NlE5"
      }
    },
    {
      "cell_type": "markdown",
      "source": [
        "# Corpus"
      ],
      "metadata": {
        "id": "rFM_kFTU7x9Z"
      }
    },
    {
      "cell_type": "code",
      "execution_count": 1,
      "metadata": {
        "id": "mvxjXmPm6o-9"
      },
      "outputs": [],
      "source": [
        "poema = \"\"\"E agora, José?\n",
        "A festa acabou,\n",
        "a luz apagou,\n",
        "o povo sumiu,\n",
        "a noite esfriou,\n",
        "e agora, José?\n",
        "e agora, você?\n",
        "você que é sem nome,\n",
        "que zomba dos outros,\n",
        "você que faz versos,\n",
        "que ama, protesta?\n",
        "e agora, José?\n",
        "\n",
        "Está sem mulher,\n",
        "está sem discurso,\n",
        "está sem carinho,\n",
        "já não pode beber,\n",
        "já não pode fumar,\n",
        "cuspir já não pode,\n",
        "a noite esfriou,\n",
        "o dia não veio,\n",
        "o bonde não veio,\n",
        "o riso não veio,\n",
        "não veio a utopia\n",
        "e tudo acabou\n",
        "e tudo fugiu\n",
        "e tudo mofou,\n",
        "e agora, José?\n",
        "\n",
        "E agora, José?\n",
        "Sua doce palavra,\n",
        "seu instante de febre,\n",
        "sua gula e jejum,\n",
        "sua biblioteca,\n",
        "sua lavra de ouro,\n",
        "seu terno de vidro,\n",
        "sua incoerência,\n",
        "seu ódio - e agora?\n",
        "\n",
        "Com a chave na mão\n",
        "quer abrir a porta,\n",
        "não existe porta;\n",
        "quer morrer no mar,\n",
        "mas o mar secou;\n",
        "quer ir para Minas,\n",
        "Minas não há mais.\n",
        "José, e agora?\n",
        "\n",
        "Se você gritasse,\n",
        "se você gemesse,\n",
        "se você tocasse\n",
        "a valsa vienense,\n",
        "se você dormisse,\n",
        "se você cansasse,\n",
        "se você morresse...\n",
        "Mas você não morre,\n",
        "você é duro, José!\n",
        "\n",
        "Sozinho no escuro\n",
        "qual bicho-do-mato,\n",
        "sem teogonia,\n",
        "sem parede nua\n",
        "para se encostar,\n",
        "sem cavalo preto\n",
        "que fuja a galope,\n",
        "você marcha, José!\n",
        "José, para onde?\"\"\"\n"
      ]
    },
    {
      "cell_type": "code",
      "source": [
        "poema1=poema.split()"
      ],
      "metadata": {
        "id": "TIM_tbB6wRRD"
      },
      "execution_count": 4,
      "outputs": []
    },
    {
      "cell_type": "code",
      "source": [
        "poema1\n"
      ],
      "metadata": {
        "colab": {
          "base_uri": "https://localhost:8080/"
        },
        "id": "BUMNdFPtwae_",
        "outputId": "313998d5-205e-49a0-e5a0-efcbeefa942a"
      },
      "execution_count": 5,
      "outputs": [
        {
          "output_type": "execute_result",
          "data": {
            "text/plain": [
              "['E',\n",
              " 'agora,',\n",
              " 'José?',\n",
              " 'A',\n",
              " 'festa',\n",
              " 'acabou,',\n",
              " 'a',\n",
              " 'luz',\n",
              " 'apagou,',\n",
              " 'o',\n",
              " 'povo',\n",
              " 'sumiu,',\n",
              " 'a',\n",
              " 'noite',\n",
              " 'esfriou,',\n",
              " 'e',\n",
              " 'agora,',\n",
              " 'José?',\n",
              " 'e',\n",
              " 'agora,',\n",
              " 'você?',\n",
              " 'você',\n",
              " 'que',\n",
              " 'é',\n",
              " 'sem',\n",
              " 'nome,',\n",
              " 'que',\n",
              " 'zomba',\n",
              " 'dos',\n",
              " 'outros,',\n",
              " 'você',\n",
              " 'que',\n",
              " 'faz',\n",
              " 'versos,',\n",
              " 'que',\n",
              " 'ama,',\n",
              " 'protesta?',\n",
              " 'e',\n",
              " 'agora,',\n",
              " 'José?',\n",
              " 'Está',\n",
              " 'sem',\n",
              " 'mulher,',\n",
              " 'está',\n",
              " 'sem',\n",
              " 'discurso,',\n",
              " 'está',\n",
              " 'sem',\n",
              " 'carinho,',\n",
              " 'já',\n",
              " 'não',\n",
              " 'pode',\n",
              " 'beber,',\n",
              " 'já',\n",
              " 'não',\n",
              " 'pode',\n",
              " 'fumar,',\n",
              " 'cuspir',\n",
              " 'já',\n",
              " 'não',\n",
              " 'pode,',\n",
              " 'a',\n",
              " 'noite',\n",
              " 'esfriou,',\n",
              " 'o',\n",
              " 'dia',\n",
              " 'não',\n",
              " 'veio,',\n",
              " 'o',\n",
              " 'bonde',\n",
              " 'não',\n",
              " 'veio,',\n",
              " 'o',\n",
              " 'riso',\n",
              " 'não',\n",
              " 'veio,',\n",
              " 'não',\n",
              " 'veio',\n",
              " 'a',\n",
              " 'utopia',\n",
              " 'e',\n",
              " 'tudo',\n",
              " 'acabou',\n",
              " 'e',\n",
              " 'tudo',\n",
              " 'fugiu',\n",
              " 'e',\n",
              " 'tudo',\n",
              " 'mofou,',\n",
              " 'e',\n",
              " 'agora,',\n",
              " 'José?',\n",
              " 'E',\n",
              " 'agora,',\n",
              " 'José?',\n",
              " 'Sua',\n",
              " 'doce',\n",
              " 'palavra,',\n",
              " 'seu',\n",
              " 'instante',\n",
              " 'de',\n",
              " 'febre,',\n",
              " 'sua',\n",
              " 'gula',\n",
              " 'e',\n",
              " 'jejum,',\n",
              " 'sua',\n",
              " 'biblioteca,',\n",
              " 'sua',\n",
              " 'lavra',\n",
              " 'de',\n",
              " 'ouro,',\n",
              " 'seu',\n",
              " 'terno',\n",
              " 'de',\n",
              " 'vidro,',\n",
              " 'sua',\n",
              " 'incoerência,',\n",
              " 'seu',\n",
              " 'ódio',\n",
              " '-',\n",
              " 'e',\n",
              " 'agora?',\n",
              " 'Com',\n",
              " 'a',\n",
              " 'chave',\n",
              " 'na',\n",
              " 'mão',\n",
              " 'quer',\n",
              " 'abrir',\n",
              " 'a',\n",
              " 'porta,',\n",
              " 'não',\n",
              " 'existe',\n",
              " 'porta;',\n",
              " 'quer',\n",
              " 'morrer',\n",
              " 'no',\n",
              " 'mar,',\n",
              " 'mas',\n",
              " 'o',\n",
              " 'mar',\n",
              " 'secou;',\n",
              " 'quer',\n",
              " 'ir',\n",
              " 'para',\n",
              " 'Minas,',\n",
              " 'Minas',\n",
              " 'não',\n",
              " 'há',\n",
              " 'mais.',\n",
              " 'José,',\n",
              " 'e',\n",
              " 'agora?',\n",
              " 'Se',\n",
              " 'você',\n",
              " 'gritasse,',\n",
              " 'se',\n",
              " 'você',\n",
              " 'gemesse,',\n",
              " 'se',\n",
              " 'você',\n",
              " 'tocasse',\n",
              " 'a',\n",
              " 'valsa',\n",
              " 'vienense,',\n",
              " 'se',\n",
              " 'você',\n",
              " 'dormisse,',\n",
              " 'se',\n",
              " 'você',\n",
              " 'cansasse,',\n",
              " 'se',\n",
              " 'você',\n",
              " 'morresse...',\n",
              " 'Mas',\n",
              " 'você',\n",
              " 'não',\n",
              " 'morre,',\n",
              " 'você',\n",
              " 'é',\n",
              " 'duro,',\n",
              " 'José!',\n",
              " 'Sozinho',\n",
              " 'no',\n",
              " 'escuro',\n",
              " 'qual',\n",
              " 'bicho-do-mato,',\n",
              " 'sem',\n",
              " 'teogonia,',\n",
              " 'sem',\n",
              " 'parede',\n",
              " 'nua',\n",
              " 'para',\n",
              " 'se',\n",
              " 'encostar,',\n",
              " 'sem',\n",
              " 'cavalo',\n",
              " 'preto',\n",
              " 'que',\n",
              " 'fuja',\n",
              " 'a',\n",
              " 'galope,',\n",
              " 'você',\n",
              " 'marcha,',\n",
              " 'José!',\n",
              " 'José,',\n",
              " 'para',\n",
              " 'onde?']"
            ]
          },
          "metadata": {},
          "execution_count": 5
        }
      ]
    },
    {
      "cell_type": "markdown",
      "source": [
        "# NLTK\n",
        "\n",
        "Nesta parte do código vamos usar uma das ferramentas mais conhecidas para processamento automático de língua natural: o NLTK (https://www.nltk.org/).\n",
        "\n",
        "Links interessantes:\n",
        "\n",
        "* http://www.nltk.org/howto/portuguese_en.html\n",
        "* https://www.kaggle.com/leandrodoze/examples-from-nltk-book-in-portuguese"
      ],
      "metadata": {
        "id": "lPY9XsezS1X0"
      }
    },
    {
      "cell_type": "markdown",
      "source": [
        "# Tokenização\n",
        "O tokenizador do NLTK (`punkt`) é baseado em regras."
      ],
      "metadata": {
        "id": "uCRFsooQnIhn"
      }
    },
    {
      "cell_type": "code",
      "source": [
        "import nltk\n",
        "from nltk import tokenize\n",
        "\n",
        "nltk.download('punkt') # necessário para baixar o tokenizador"
      ],
      "metadata": {
        "colab": {
          "base_uri": "https://localhost:8080/"
        },
        "id": "fKckCBqdWFVv",
        "outputId": "62e883b6-facb-41c3-fb51-a11d75faa081"
      },
      "execution_count": 6,
      "outputs": [
        {
          "output_type": "stream",
          "name": "stderr",
          "text": [
            "[nltk_data] Downloading package punkt to /root/nltk_data...\n",
            "[nltk_data]   Unzipping tokenizers/punkt.zip.\n"
          ]
        },
        {
          "output_type": "execute_result",
          "data": {
            "text/plain": [
              "True"
            ]
          },
          "metadata": {},
          "execution_count": 6
        }
      ]
    },
    {
      "cell_type": "markdown",
      "source": [
        "Contagem de tokens e types."
      ],
      "metadata": {
        "id": "0XqU4AD2o6YZ"
      }
    },
    {
      "cell_type": "code",
      "source": [
        "tokens = tokenize.word_tokenize(poema, language=\"portuguese\")\n",
        "minusculas = tokenize.word_tokenize(poema.lower(), language=\"portuguese\")\n",
        "\n",
        "vocabulario = set(minusculas)\n",
        "\n",
        "print(\"Quantidade de tokens: \",len(tokens))\n",
        "print(\"Quantidade de types: \",len(vocabulario))"
      ],
      "metadata": {
        "colab": {
          "base_uri": "https://localhost:8080/"
        },
        "id": "ZaKsplZvoBXv",
        "outputId": "7a993d00-3d7b-4aa2-832e-3456b886902a"
      },
      "execution_count": 7,
      "outputs": [
        {
          "output_type": "stream",
          "name": "stdout",
          "text": [
            "Quantidade de tokens:  274\n",
            "Quantidade de types:  109\n"
          ]
        }
      ]
    },
    {
      "cell_type": "code",
      "source": [
        "minusculas"
      ],
      "metadata": {
        "colab": {
          "base_uri": "https://localhost:8080/"
        },
        "id": "klCu2gA1w_6a",
        "outputId": "8aac1962-d185-46a5-bba9-8b5e8bf1f547"
      },
      "execution_count": 8,
      "outputs": [
        {
          "output_type": "execute_result",
          "data": {
            "text/plain": [
              "['e',\n",
              " 'agora',\n",
              " ',',\n",
              " 'josé',\n",
              " '?',\n",
              " 'a',\n",
              " 'festa',\n",
              " 'acabou',\n",
              " ',',\n",
              " 'a',\n",
              " 'luz',\n",
              " 'apagou',\n",
              " ',',\n",
              " 'o',\n",
              " 'povo',\n",
              " 'sumiu',\n",
              " ',',\n",
              " 'a',\n",
              " 'noite',\n",
              " 'esfriou',\n",
              " ',',\n",
              " 'e',\n",
              " 'agora',\n",
              " ',',\n",
              " 'josé',\n",
              " '?',\n",
              " 'e',\n",
              " 'agora',\n",
              " ',',\n",
              " 'você',\n",
              " '?',\n",
              " 'você',\n",
              " 'que',\n",
              " 'é',\n",
              " 'sem',\n",
              " 'nome',\n",
              " ',',\n",
              " 'que',\n",
              " 'zomba',\n",
              " 'dos',\n",
              " 'outros',\n",
              " ',',\n",
              " 'você',\n",
              " 'que',\n",
              " 'faz',\n",
              " 'versos',\n",
              " ',',\n",
              " 'que',\n",
              " 'ama',\n",
              " ',',\n",
              " 'protesta',\n",
              " '?',\n",
              " 'e',\n",
              " 'agora',\n",
              " ',',\n",
              " 'josé',\n",
              " '?',\n",
              " 'está',\n",
              " 'sem',\n",
              " 'mulher',\n",
              " ',',\n",
              " 'está',\n",
              " 'sem',\n",
              " 'discurso',\n",
              " ',',\n",
              " 'está',\n",
              " 'sem',\n",
              " 'carinho',\n",
              " ',',\n",
              " 'já',\n",
              " 'não',\n",
              " 'pode',\n",
              " 'beber',\n",
              " ',',\n",
              " 'já',\n",
              " 'não',\n",
              " 'pode',\n",
              " 'fumar',\n",
              " ',',\n",
              " 'cuspir',\n",
              " 'já',\n",
              " 'não',\n",
              " 'pode',\n",
              " ',',\n",
              " 'a',\n",
              " 'noite',\n",
              " 'esfriou',\n",
              " ',',\n",
              " 'o',\n",
              " 'dia',\n",
              " 'não',\n",
              " 'veio',\n",
              " ',',\n",
              " 'o',\n",
              " 'bonde',\n",
              " 'não',\n",
              " 'veio',\n",
              " ',',\n",
              " 'o',\n",
              " 'riso',\n",
              " 'não',\n",
              " 'veio',\n",
              " ',',\n",
              " 'não',\n",
              " 'veio',\n",
              " 'a',\n",
              " 'utopia',\n",
              " 'e',\n",
              " 'tudo',\n",
              " 'acabou',\n",
              " 'e',\n",
              " 'tudo',\n",
              " 'fugiu',\n",
              " 'e',\n",
              " 'tudo',\n",
              " 'mofou',\n",
              " ',',\n",
              " 'e',\n",
              " 'agora',\n",
              " ',',\n",
              " 'josé',\n",
              " '?',\n",
              " 'e',\n",
              " 'agora',\n",
              " ',',\n",
              " 'josé',\n",
              " '?',\n",
              " 'sua',\n",
              " 'doce',\n",
              " 'palavra',\n",
              " ',',\n",
              " 'seu',\n",
              " 'instante',\n",
              " 'de',\n",
              " 'febre',\n",
              " ',',\n",
              " 'sua',\n",
              " 'gula',\n",
              " 'e',\n",
              " 'jejum',\n",
              " ',',\n",
              " 'sua',\n",
              " 'biblioteca',\n",
              " ',',\n",
              " 'sua',\n",
              " 'lavra',\n",
              " 'de',\n",
              " 'ouro',\n",
              " ',',\n",
              " 'seu',\n",
              " 'terno',\n",
              " 'de',\n",
              " 'vidro',\n",
              " ',',\n",
              " 'sua',\n",
              " 'incoerência',\n",
              " ',',\n",
              " 'seu',\n",
              " 'ódio',\n",
              " '-',\n",
              " 'e',\n",
              " 'agora',\n",
              " '?',\n",
              " 'com',\n",
              " 'a',\n",
              " 'chave',\n",
              " 'na',\n",
              " 'mão',\n",
              " 'quer',\n",
              " 'abrir',\n",
              " 'a',\n",
              " 'porta',\n",
              " ',',\n",
              " 'não',\n",
              " 'existe',\n",
              " 'porta',\n",
              " ';',\n",
              " 'quer',\n",
              " 'morrer',\n",
              " 'no',\n",
              " 'mar',\n",
              " ',',\n",
              " 'mas',\n",
              " 'o',\n",
              " 'mar',\n",
              " 'secou',\n",
              " ';',\n",
              " 'quer',\n",
              " 'ir',\n",
              " 'para',\n",
              " 'minas',\n",
              " ',',\n",
              " 'minas',\n",
              " 'não',\n",
              " 'há',\n",
              " 'mais',\n",
              " '.',\n",
              " 'josé',\n",
              " ',',\n",
              " 'e',\n",
              " 'agora',\n",
              " '?',\n",
              " 'se',\n",
              " 'você',\n",
              " 'gritasse',\n",
              " ',',\n",
              " 'se',\n",
              " 'você',\n",
              " 'gemesse',\n",
              " ',',\n",
              " 'se',\n",
              " 'você',\n",
              " 'tocasse',\n",
              " 'a',\n",
              " 'valsa',\n",
              " 'vienense',\n",
              " ',',\n",
              " 'se',\n",
              " 'você',\n",
              " 'dormisse',\n",
              " ',',\n",
              " 'se',\n",
              " 'você',\n",
              " 'cansasse',\n",
              " ',',\n",
              " 'se',\n",
              " 'você',\n",
              " 'morresse',\n",
              " '...',\n",
              " 'mas',\n",
              " 'você',\n",
              " 'não',\n",
              " 'morre',\n",
              " ',',\n",
              " 'você',\n",
              " 'é',\n",
              " 'duro',\n",
              " ',',\n",
              " 'josé',\n",
              " '!',\n",
              " 'sozinho',\n",
              " 'no',\n",
              " 'escuro',\n",
              " 'qual',\n",
              " 'bicho-do-mato',\n",
              " ',',\n",
              " 'sem',\n",
              " 'teogonia',\n",
              " ',',\n",
              " 'sem',\n",
              " 'parede',\n",
              " 'nua',\n",
              " 'para',\n",
              " 'se',\n",
              " 'encostar',\n",
              " ',',\n",
              " 'sem',\n",
              " 'cavalo',\n",
              " 'preto',\n",
              " 'que',\n",
              " 'fuja',\n",
              " 'a',\n",
              " 'galope',\n",
              " ',',\n",
              " 'você',\n",
              " 'marcha',\n",
              " ',',\n",
              " 'josé',\n",
              " '!',\n",
              " 'josé',\n",
              " ',',\n",
              " 'para',\n",
              " 'onde',\n",
              " '?']"
            ]
          },
          "metadata": {},
          "execution_count": 8
        }
      ]
    },
    {
      "cell_type": "code",
      "source": [
        "vocabulario"
      ],
      "metadata": {
        "colab": {
          "base_uri": "https://localhost:8080/"
        },
        "id": "LJmBVOnxxGOe",
        "outputId": "3ef4194e-1c36-4fe6-d87e-f849bc8e9faa"
      },
      "execution_count": 9,
      "outputs": [
        {
          "output_type": "execute_result",
          "data": {
            "text/plain": [
              "{'!',\n",
              " ',',\n",
              " '-',\n",
              " '.',\n",
              " '...',\n",
              " ';',\n",
              " '?',\n",
              " 'a',\n",
              " 'abrir',\n",
              " 'acabou',\n",
              " 'agora',\n",
              " 'ama',\n",
              " 'apagou',\n",
              " 'beber',\n",
              " 'biblioteca',\n",
              " 'bicho-do-mato',\n",
              " 'bonde',\n",
              " 'cansasse',\n",
              " 'carinho',\n",
              " 'cavalo',\n",
              " 'chave',\n",
              " 'com',\n",
              " 'cuspir',\n",
              " 'de',\n",
              " 'dia',\n",
              " 'discurso',\n",
              " 'doce',\n",
              " 'dormisse',\n",
              " 'dos',\n",
              " 'duro',\n",
              " 'e',\n",
              " 'encostar',\n",
              " 'escuro',\n",
              " 'esfriou',\n",
              " 'está',\n",
              " 'existe',\n",
              " 'faz',\n",
              " 'febre',\n",
              " 'festa',\n",
              " 'fugiu',\n",
              " 'fuja',\n",
              " 'fumar',\n",
              " 'galope',\n",
              " 'gemesse',\n",
              " 'gritasse',\n",
              " 'gula',\n",
              " 'há',\n",
              " 'incoerência',\n",
              " 'instante',\n",
              " 'ir',\n",
              " 'jejum',\n",
              " 'josé',\n",
              " 'já',\n",
              " 'lavra',\n",
              " 'luz',\n",
              " 'mais',\n",
              " 'mar',\n",
              " 'marcha',\n",
              " 'mas',\n",
              " 'minas',\n",
              " 'mofou',\n",
              " 'morre',\n",
              " 'morrer',\n",
              " 'morresse',\n",
              " 'mulher',\n",
              " 'mão',\n",
              " 'na',\n",
              " 'no',\n",
              " 'noite',\n",
              " 'nome',\n",
              " 'nua',\n",
              " 'não',\n",
              " 'o',\n",
              " 'onde',\n",
              " 'ouro',\n",
              " 'outros',\n",
              " 'palavra',\n",
              " 'para',\n",
              " 'parede',\n",
              " 'pode',\n",
              " 'porta',\n",
              " 'povo',\n",
              " 'preto',\n",
              " 'protesta',\n",
              " 'qual',\n",
              " 'que',\n",
              " 'quer',\n",
              " 'riso',\n",
              " 'se',\n",
              " 'secou',\n",
              " 'sem',\n",
              " 'seu',\n",
              " 'sozinho',\n",
              " 'sua',\n",
              " 'sumiu',\n",
              " 'teogonia',\n",
              " 'terno',\n",
              " 'tocasse',\n",
              " 'tudo',\n",
              " 'utopia',\n",
              " 'valsa',\n",
              " 'veio',\n",
              " 'versos',\n",
              " 'vidro',\n",
              " 'vienense',\n",
              " 'você',\n",
              " 'zomba',\n",
              " 'é',\n",
              " 'ódio'}"
            ]
          },
          "metadata": {},
          "execution_count": 9
        }
      ]
    },
    {
      "cell_type": "code",
      "source": [
        "print(tokens)"
      ],
      "metadata": {
        "colab": {
          "base_uri": "https://localhost:8080/"
        },
        "id": "4GzwG_Mro72z",
        "outputId": "4482c6e1-29ec-451c-e2c1-bb8217432738"
      },
      "execution_count": 10,
      "outputs": [
        {
          "output_type": "stream",
          "name": "stdout",
          "text": [
            "['E', 'agora', ',', 'José', '?', 'A', 'festa', 'acabou', ',', 'a', 'luz', 'apagou', ',', 'o', 'povo', 'sumiu', ',', 'a', 'noite', 'esfriou', ',', 'e', 'agora', ',', 'José', '?', 'e', 'agora', ',', 'você', '?', 'você', 'que', 'é', 'sem', 'nome', ',', 'que', 'zomba', 'dos', 'outros', ',', 'você', 'que', 'faz', 'versos', ',', 'que', 'ama', ',', 'protesta', '?', 'e', 'agora', ',', 'José', '?', 'Está', 'sem', 'mulher', ',', 'está', 'sem', 'discurso', ',', 'está', 'sem', 'carinho', ',', 'já', 'não', 'pode', 'beber', ',', 'já', 'não', 'pode', 'fumar', ',', 'cuspir', 'já', 'não', 'pode', ',', 'a', 'noite', 'esfriou', ',', 'o', 'dia', 'não', 'veio', ',', 'o', 'bonde', 'não', 'veio', ',', 'o', 'riso', 'não', 'veio', ',', 'não', 'veio', 'a', 'utopia', 'e', 'tudo', 'acabou', 'e', 'tudo', 'fugiu', 'e', 'tudo', 'mofou', ',', 'e', 'agora', ',', 'José', '?', 'E', 'agora', ',', 'José', '?', 'Sua', 'doce', 'palavra', ',', 'seu', 'instante', 'de', 'febre', ',', 'sua', 'gula', 'e', 'jejum', ',', 'sua', 'biblioteca', ',', 'sua', 'lavra', 'de', 'ouro', ',', 'seu', 'terno', 'de', 'vidro', ',', 'sua', 'incoerência', ',', 'seu', 'ódio', '-', 'e', 'agora', '?', 'Com', 'a', 'chave', 'na', 'mão', 'quer', 'abrir', 'a', 'porta', ',', 'não', 'existe', 'porta', ';', 'quer', 'morrer', 'no', 'mar', ',', 'mas', 'o', 'mar', 'secou', ';', 'quer', 'ir', 'para', 'Minas', ',', 'Minas', 'não', 'há', 'mais', '.', 'José', ',', 'e', 'agora', '?', 'Se', 'você', 'gritasse', ',', 'se', 'você', 'gemesse', ',', 'se', 'você', 'tocasse', 'a', 'valsa', 'vienense', ',', 'se', 'você', 'dormisse', ',', 'se', 'você', 'cansasse', ',', 'se', 'você', 'morresse', '...', 'Mas', 'você', 'não', 'morre', ',', 'você', 'é', 'duro', ',', 'José', '!', 'Sozinho', 'no', 'escuro', 'qual', 'bicho-do-mato', ',', 'sem', 'teogonia', ',', 'sem', 'parede', 'nua', 'para', 'se', 'encostar', ',', 'sem', 'cavalo', 'preto', 'que', 'fuja', 'a', 'galope', ',', 'você', 'marcha', ',', 'José', '!', 'José', ',', 'para', 'onde', '?']\n"
          ]
        }
      ]
    },
    {
      "cell_type": "code",
      "source": [
        "print(vocabulario)"
      ],
      "metadata": {
        "id": "ORbBG6Yjpa58",
        "outputId": "194f9c3e-1e87-4279-c09c-da3dbf30087b",
        "colab": {
          "base_uri": "https://localhost:8080/"
        }
      },
      "execution_count": 11,
      "outputs": [
        {
          "output_type": "stream",
          "name": "stdout",
          "text": [
            "{'apagou', 'secou', 'bonde', 'quer', 'biblioteca', 'encostar', 'há', 'cansasse', 'marcha', 'versos', 'mar', 'porta', 'mão', 'na', 'sozinho', 'fugiu', 'o', 'faz', 'a', 'palavra', 'se', 'ódio', 'fuja', '?', ';', 'mulher', 'qual', '!', 'festa', 'gula', 'e', 'tocasse', 'lavra', ',', 'mofou', 'outros', 'ir', 'nua', 'povo', 'pode', 'chave', 'morresse', 'já', 'carinho', 'fumar', 'dos', 'seu', 'instante', '-', 'nome', 'terno', 'teogonia', 'zomba', 'utopia', 'ama', 'dia', 'mais', 'esfriou', 'beber', 'febre', 'vienense', 'veio', 'riso', 'acabou', 'no', 'gemesse', 'noite', 'discurso', 'parede', 'morre', 'está', 'doce', 'bicho-do-mato', 'gritasse', 'onde', 'vidro', 'escuro', 'cavalo', 'sem', 'valsa', '.', 'você', 'preto', 'agora', 'para', 'que', 'não', 'ouro', 'galope', 'incoerência', 'josé', 'morrer', 'mas', 'duro', 'de', 'protesta', 'cuspir', 'com', 'dormisse', 'luz', 'minas', 'sumiu', 'tudo', 'existe', 'é', 'abrir', 'sua', 'jejum', '...'}\n"
          ]
        }
      ]
    },
    {
      "cell_type": "code",
      "source": [
        "print(minusculas)"
      ],
      "metadata": {
        "colab": {
          "base_uri": "https://localhost:8080/"
        },
        "id": "4RI27Lz3xSJy",
        "outputId": "09329e5c-e1db-4115-a461-e9fade214da1"
      },
      "execution_count": 12,
      "outputs": [
        {
          "output_type": "stream",
          "name": "stdout",
          "text": [
            "['e', 'agora', ',', 'josé', '?', 'a', 'festa', 'acabou', ',', 'a', 'luz', 'apagou', ',', 'o', 'povo', 'sumiu', ',', 'a', 'noite', 'esfriou', ',', 'e', 'agora', ',', 'josé', '?', 'e', 'agora', ',', 'você', '?', 'você', 'que', 'é', 'sem', 'nome', ',', 'que', 'zomba', 'dos', 'outros', ',', 'você', 'que', 'faz', 'versos', ',', 'que', 'ama', ',', 'protesta', '?', 'e', 'agora', ',', 'josé', '?', 'está', 'sem', 'mulher', ',', 'está', 'sem', 'discurso', ',', 'está', 'sem', 'carinho', ',', 'já', 'não', 'pode', 'beber', ',', 'já', 'não', 'pode', 'fumar', ',', 'cuspir', 'já', 'não', 'pode', ',', 'a', 'noite', 'esfriou', ',', 'o', 'dia', 'não', 'veio', ',', 'o', 'bonde', 'não', 'veio', ',', 'o', 'riso', 'não', 'veio', ',', 'não', 'veio', 'a', 'utopia', 'e', 'tudo', 'acabou', 'e', 'tudo', 'fugiu', 'e', 'tudo', 'mofou', ',', 'e', 'agora', ',', 'josé', '?', 'e', 'agora', ',', 'josé', '?', 'sua', 'doce', 'palavra', ',', 'seu', 'instante', 'de', 'febre', ',', 'sua', 'gula', 'e', 'jejum', ',', 'sua', 'biblioteca', ',', 'sua', 'lavra', 'de', 'ouro', ',', 'seu', 'terno', 'de', 'vidro', ',', 'sua', 'incoerência', ',', 'seu', 'ódio', '-', 'e', 'agora', '?', 'com', 'a', 'chave', 'na', 'mão', 'quer', 'abrir', 'a', 'porta', ',', 'não', 'existe', 'porta', ';', 'quer', 'morrer', 'no', 'mar', ',', 'mas', 'o', 'mar', 'secou', ';', 'quer', 'ir', 'para', 'minas', ',', 'minas', 'não', 'há', 'mais', '.', 'josé', ',', 'e', 'agora', '?', 'se', 'você', 'gritasse', ',', 'se', 'você', 'gemesse', ',', 'se', 'você', 'tocasse', 'a', 'valsa', 'vienense', ',', 'se', 'você', 'dormisse', ',', 'se', 'você', 'cansasse', ',', 'se', 'você', 'morresse', '...', 'mas', 'você', 'não', 'morre', ',', 'você', 'é', 'duro', ',', 'josé', '!', 'sozinho', 'no', 'escuro', 'qual', 'bicho-do-mato', ',', 'sem', 'teogonia', ',', 'sem', 'parede', 'nua', 'para', 'se', 'encostar', ',', 'sem', 'cavalo', 'preto', 'que', 'fuja', 'a', 'galope', ',', 'você', 'marcha', ',', 'josé', '!', 'josé', ',', 'para', 'onde', '?']\n"
          ]
        }
      ]
    },
    {
      "cell_type": "markdown",
      "source": [
        "# Segmentação de sentenças"
      ],
      "metadata": {
        "id": "fH8jCx0pCX4d"
      }
    },
    {
      "cell_type": "code",
      "source": [
        "nltk.sent_tokenize(poema, language=\"portuguese\")"
      ],
      "metadata": {
        "colab": {
          "base_uri": "https://localhost:8080/"
        },
        "id": "g0knsahICZ4l",
        "outputId": "ce6fa5ad-cd17-414b-ca6c-3ba9ea4230ad"
      },
      "execution_count": 13,
      "outputs": [
        {
          "output_type": "execute_result",
          "data": {
            "text/plain": [
              "['E agora, José?',\n",
              " 'A festa acabou,\\na luz apagou,\\no povo sumiu,\\na noite esfriou,\\ne agora, José?',\n",
              " 'e agora, você?',\n",
              " 'você que é sem nome,\\nque zomba dos outros,\\nvocê que faz versos,\\nque ama, protesta?',\n",
              " 'e agora, José?',\n",
              " 'Está sem mulher,\\nestá sem discurso,\\nestá sem carinho,\\njá não pode beber,\\njá não pode fumar,\\ncuspir já não pode,\\na noite esfriou,\\no dia não veio,\\no bonde não veio,\\no riso não veio,\\nnão veio a utopia\\ne tudo acabou\\ne tudo fugiu\\ne tudo mofou,\\ne agora, José?',\n",
              " 'E agora, José?',\n",
              " 'Sua doce palavra,\\nseu instante de febre,\\nsua gula e jejum,\\nsua biblioteca,\\nsua lavra de ouro,\\nseu terno de vidro,\\nsua incoerência,\\nseu ódio - e agora?',\n",
              " 'Com a chave na mão\\nquer abrir a porta,\\nnão existe porta;\\nquer morrer no mar,\\nmas o mar secou;\\nquer ir para Minas,\\nMinas não há mais.',\n",
              " 'José, e agora?',\n",
              " 'Se você gritasse,\\nse você gemesse,\\nse você tocasse\\na valsa vienense,\\nse você dormisse,\\nse você cansasse,\\nse você morresse...',\n",
              " 'Mas você não morre,\\nvocê é duro, José!',\n",
              " 'Sozinho no escuro\\nqual bicho-do-mato,\\nsem teogonia,\\nsem parede nua\\npara se encostar,\\nsem cavalo preto\\nque fuja a galope,\\nvocê marcha, José!',\n",
              " 'José, para onde?']"
            ]
          },
          "metadata": {},
          "execution_count": 13
        }
      ]
    },
    {
      "cell_type": "markdown",
      "source": [
        "# Radicalização"
      ],
      "metadata": {
        "id": "NiKutBOdETOx"
      }
    },
    {
      "cell_type": "code",
      "source": [
        "import nltk\n",
        "nltk.download('rslp')\n",
        "raiz = nltk.stem.RSLPStemmer()\n",
        "\n",
        "tokens = nltk.word_tokenize(\"O menino foi para a escola de ônibus.\",language=\"portuguese\")\n",
        "[raiz.stem(token) for token in tokens]"
      ],
      "metadata": {
        "colab": {
          "base_uri": "https://localhost:8080/"
        },
        "id": "25H2FOlREV9a",
        "outputId": "ff6dcec7-11d4-4e64-cef1-f1030692a232"
      },
      "execution_count": 14,
      "outputs": [
        {
          "output_type": "stream",
          "name": "stderr",
          "text": [
            "[nltk_data] Downloading package rslp to /root/nltk_data...\n",
            "[nltk_data]   Unzipping stemmers/rslp.zip.\n"
          ]
        },
        {
          "output_type": "execute_result",
          "data": {
            "text/plain": [
              "['o', 'menin', 'foi', 'par', 'a', 'escol', 'de', 'ônibu', '.']"
            ]
          },
          "metadata": {},
          "execution_count": 14
        }
      ]
    },
    {
      "cell_type": "markdown",
      "source": [
        "# Remoção de *stopwords*"
      ],
      "metadata": {
        "id": "8302gcizqzUB"
      }
    },
    {
      "cell_type": "code",
      "source": [
        "nltk.download('stopwords')\n",
        "stopwords = nltk.corpus.stopwords.words('portuguese')"
      ],
      "metadata": {
        "colab": {
          "base_uri": "https://localhost:8080/"
        },
        "id": "ozxMcNFhSc0Y",
        "outputId": "e601e10b-a4e2-407a-9f31-b7007e29c761"
      },
      "execution_count": 15,
      "outputs": [
        {
          "output_type": "stream",
          "name": "stderr",
          "text": [
            "[nltk_data] Downloading package stopwords to /root/nltk_data...\n",
            "[nltk_data]   Unzipping corpora/stopwords.zip.\n"
          ]
        }
      ]
    },
    {
      "cell_type": "code",
      "source": [
        "for palavra in tokens:\n",
        "  if palavra.lower() not in stopwords:\n",
        "    print(palavra)"
      ],
      "metadata": {
        "id": "vgtvkmUaS7bQ",
        "colab": {
          "base_uri": "https://localhost:8080/"
        },
        "outputId": "d63cf2ac-f5d7-4937-9a19-53329b481ef6"
      },
      "execution_count": 16,
      "outputs": [
        {
          "output_type": "stream",
          "name": "stdout",
          "text": [
            "menino\n",
            "escola\n",
            "ônibus\n",
            ".\n"
          ]
        }
      ]
    },
    {
      "cell_type": "markdown",
      "source": [
        "#Agradecimento:\n",
        "\n",
        "Aula prática baseada no material disponibilizado pela Profa. Dra. Helena Caseli (UFSCar)"
      ],
      "metadata": {
        "id": "PXwOSQe3EtH7"
      }
    }
  ]
}